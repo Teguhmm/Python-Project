{
 "cells": [
  {
   "cell_type": "code",
   "execution_count": 1,
   "metadata": {},
   "outputs": [],
   "source": [
    "import pandas as pd     \n",
    "import matplotlib.pyplot as plt\n",
    "import numpy as np\n",
    "import seaborn as sns\n",
    "import os"
   ]
  },
  {
   "cell_type": "code",
   "execution_count": 2,
   "metadata": {},
   "outputs": [
    {
     "data": {
      "text/plain": [
       "'C:\\\\Users\\\\Teguh\\\\Downloads\\\\Toronto Bikeshare Data'"
      ]
     },
     "execution_count": 2,
     "metadata": {},
     "output_type": "execute_result"
    }
   ],
   "source": [
    "pwd  # Mengetahui lokasi saat ini"
   ]
  },
  {
   "cell_type": "code",
   "execution_count": 3,
   "metadata": {},
   "outputs": [],
   "source": [
    "#Read datasheet\n",
    "df1 =pd.read_csv(r\"C:\\Users\\Teguh\\Downloads\\Toronto Bikeshare Data\\2017 Data\\Bikeshare Ridership (2017 Q1).csv\")\n",
    "df2 =pd.read_csv(r\"C:\\Users\\Teguh\\Downloads\\Toronto Bikeshare Data\\2017 Data\\Bikeshare Ridership (2017 Q2).csv\")\n",
    "df3 =pd.read_csv(r\"C:\\Users\\Teguh\\Downloads\\Toronto Bikeshare Data\\2017 Data\\Bikeshare Ridership (2017 Q3).csv\")\n",
    "df4 =pd.read_csv(r\"C:\\Users\\Teguh\\Downloads\\Toronto Bikeshare Data\\2017 Data\\Bikeshare Ridership (2017 Q4).csv\")"
   ]
  },
  {
   "cell_type": "code",
   "execution_count": 4,
   "metadata": {},
   "outputs": [],
   "source": [
    "df = df1.copy() # Membuat datasheet utama\n",
    "df = df.append([df2, df3, df4], sort=False) # Menggabungkan 3 datasheet menjadi 1 dengan append"
   ]
  },
  {
   "cell_type": "code",
   "execution_count": 5,
   "metadata": {},
   "outputs": [
    {
     "data": {
      "text/html": [
       "<div>\n",
       "<style scoped>\n",
       "    .dataframe tbody tr th:only-of-type {\n",
       "        vertical-align: middle;\n",
       "    }\n",
       "\n",
       "    .dataframe tbody tr th {\n",
       "        vertical-align: top;\n",
       "    }\n",
       "\n",
       "    .dataframe thead th {\n",
       "        text-align: right;\n",
       "    }\n",
       "</style>\n",
       "<table border=\"1\" class=\"dataframe\">\n",
       "  <thead>\n",
       "    <tr style=\"text-align: right;\">\n",
       "      <th></th>\n",
       "      <th>trip_id</th>\n",
       "      <th>trip_start_time</th>\n",
       "      <th>trip_stop_time</th>\n",
       "      <th>trip_duration_seconds</th>\n",
       "      <th>from_station_id</th>\n",
       "      <th>from_station_name</th>\n",
       "      <th>to_station_id</th>\n",
       "      <th>to_station_name</th>\n",
       "      <th>user_type</th>\n",
       "    </tr>\n",
       "  </thead>\n",
       "  <tbody>\n",
       "    <tr>\n",
       "      <th>0</th>\n",
       "      <td>712382</td>\n",
       "      <td>1/1/2017 0:00</td>\n",
       "      <td>1/1/2017 0:03</td>\n",
       "      <td>223</td>\n",
       "      <td>7051.0</td>\n",
       "      <td>Wellesley St E / Yonge St Green P</td>\n",
       "      <td>7089.0</td>\n",
       "      <td>Church St  / Wood St</td>\n",
       "      <td>Member</td>\n",
       "    </tr>\n",
       "    <tr>\n",
       "      <th>1</th>\n",
       "      <td>712383</td>\n",
       "      <td>1/1/2017 0:00</td>\n",
       "      <td>1/1/2017 0:05</td>\n",
       "      <td>279</td>\n",
       "      <td>7143.0</td>\n",
       "      <td>Kendal Ave / Bernard Ave</td>\n",
       "      <td>7154.0</td>\n",
       "      <td>Bathurst Subway Station</td>\n",
       "      <td>Member</td>\n",
       "    </tr>\n",
       "    <tr>\n",
       "      <th>2</th>\n",
       "      <td>712384</td>\n",
       "      <td>1/1/2017 0:05</td>\n",
       "      <td>1/1/2017 0:29</td>\n",
       "      <td>1394</td>\n",
       "      <td>7113.0</td>\n",
       "      <td>Parliament St / Aberdeen Ave</td>\n",
       "      <td>7199.0</td>\n",
       "      <td>College St W / Markham St</td>\n",
       "      <td>Member</td>\n",
       "    </tr>\n",
       "    <tr>\n",
       "      <th>3</th>\n",
       "      <td>712385</td>\n",
       "      <td>1/1/2017 0:07</td>\n",
       "      <td>1/1/2017 0:21</td>\n",
       "      <td>826</td>\n",
       "      <td>7077.0</td>\n",
       "      <td>College Park South</td>\n",
       "      <td>7010.0</td>\n",
       "      <td>King St W / Spadina Ave</td>\n",
       "      <td>Member</td>\n",
       "    </tr>\n",
       "    <tr>\n",
       "      <th>4</th>\n",
       "      <td>712386</td>\n",
       "      <td>1/1/2017 0:08</td>\n",
       "      <td>1/1/2017 0:12</td>\n",
       "      <td>279</td>\n",
       "      <td>7079.0</td>\n",
       "      <td>McGill St / Church St</td>\n",
       "      <td>7047.0</td>\n",
       "      <td>University Ave / Gerrard St W</td>\n",
       "      <td>Member</td>\n",
       "    </tr>\n",
       "  </tbody>\n",
       "</table>\n",
       "</div>"
      ],
      "text/plain": [
       "   trip_id trip_start_time trip_stop_time  trip_duration_seconds  \\\n",
       "0   712382   1/1/2017 0:00  1/1/2017 0:03                    223   \n",
       "1   712383   1/1/2017 0:00  1/1/2017 0:05                    279   \n",
       "2   712384   1/1/2017 0:05  1/1/2017 0:29                   1394   \n",
       "3   712385   1/1/2017 0:07  1/1/2017 0:21                    826   \n",
       "4   712386   1/1/2017 0:08  1/1/2017 0:12                    279   \n",
       "\n",
       "   from_station_id                  from_station_name  to_station_id  \\\n",
       "0           7051.0  Wellesley St E / Yonge St Green P         7089.0   \n",
       "1           7143.0           Kendal Ave / Bernard Ave         7154.0   \n",
       "2           7113.0       Parliament St / Aberdeen Ave         7199.0   \n",
       "3           7077.0                 College Park South         7010.0   \n",
       "4           7079.0              McGill St / Church St         7047.0   \n",
       "\n",
       "                 to_station_name user_type  \n",
       "0           Church St  / Wood St    Member  \n",
       "1        Bathurst Subway Station    Member  \n",
       "2      College St W / Markham St    Member  \n",
       "3        King St W / Spadina Ave    Member  \n",
       "4  University Ave / Gerrard St W    Member  "
      ]
     },
     "execution_count": 5,
     "metadata": {},
     "output_type": "execute_result"
    }
   ],
   "source": [
    "df.head() "
   ]
  },
  {
   "cell_type": "markdown",
   "metadata": {},
   "source": [
    "<h3>Exploratory Data Analysis</h3>"
   ]
  },
  {
   "cell_type": "code",
   "execution_count": 6,
   "metadata": {},
   "outputs": [
    {
     "data": {
      "text/plain": [
       "trip_id                    int64\n",
       "trip_start_time           object\n",
       "trip_stop_time            object\n",
       "trip_duration_seconds      int64\n",
       "from_station_id          float64\n",
       "from_station_name         object\n",
       "to_station_id            float64\n",
       "to_station_name           object\n",
       "user_type                 object\n",
       "dtype: object"
      ]
     },
     "execution_count": 6,
     "metadata": {},
     "output_type": "execute_result"
    }
   ],
   "source": [
    "df.dtypes # Cek format data"
   ]
  },
  {
   "cell_type": "code",
   "execution_count": 7,
   "metadata": {},
   "outputs": [
    {
     "data": {
      "text/html": [
       "<div>\n",
       "<style scoped>\n",
       "    .dataframe tbody tr th:only-of-type {\n",
       "        vertical-align: middle;\n",
       "    }\n",
       "\n",
       "    .dataframe tbody tr th {\n",
       "        vertical-align: top;\n",
       "    }\n",
       "\n",
       "    .dataframe thead th {\n",
       "        text-align: right;\n",
       "    }\n",
       "</style>\n",
       "<table border=\"1\" class=\"dataframe\">\n",
       "  <thead>\n",
       "    <tr style=\"text-align: right;\">\n",
       "      <th></th>\n",
       "      <th>trip_id</th>\n",
       "      <th>trip_duration_seconds</th>\n",
       "      <th>from_station_id</th>\n",
       "      <th>to_station_id</th>\n",
       "    </tr>\n",
       "  </thead>\n",
       "  <tbody>\n",
       "    <tr>\n",
       "      <th>count</th>\n",
       "      <td>1.492369e+06</td>\n",
       "      <td>1.492369e+06</td>\n",
       "      <td>465476.000000</td>\n",
       "      <td>465476.000000</td>\n",
       "    </tr>\n",
       "    <tr>\n",
       "      <th>mean</th>\n",
       "      <td>1.553653e+06</td>\n",
       "      <td>1.017616e+03</td>\n",
       "      <td>7077.085429</td>\n",
       "      <td>7076.123059</td>\n",
       "    </tr>\n",
       "    <tr>\n",
       "      <th>std</th>\n",
       "      <td>4.758046e+05</td>\n",
       "      <td>9.772787e+03</td>\n",
       "      <td>60.256824</td>\n",
       "      <td>59.839325</td>\n",
       "    </tr>\n",
       "    <tr>\n",
       "      <th>min</th>\n",
       "      <td>7.123820e+05</td>\n",
       "      <td>0.000000e+00</td>\n",
       "      <td>7000.000000</td>\n",
       "      <td>7000.000000</td>\n",
       "    </tr>\n",
       "    <tr>\n",
       "      <th>25%</th>\n",
       "      <td>1.147384e+06</td>\n",
       "      <td>4.150000e+02</td>\n",
       "      <td>7028.000000</td>\n",
       "      <td>7028.000000</td>\n",
       "    </tr>\n",
       "    <tr>\n",
       "      <th>50%</th>\n",
       "      <td>1.558955e+06</td>\n",
       "      <td>6.540000e+02</td>\n",
       "      <td>7059.000000</td>\n",
       "      <td>7059.000000</td>\n",
       "    </tr>\n",
       "    <tr>\n",
       "      <th>75%</th>\n",
       "      <td>1.961202e+06</td>\n",
       "      <td>1.020000e+03</td>\n",
       "      <td>7121.000000</td>\n",
       "      <td>7118.000000</td>\n",
       "    </tr>\n",
       "    <tr>\n",
       "      <th>max</th>\n",
       "      <td>2.383646e+06</td>\n",
       "      <td>6.382030e+06</td>\n",
       "      <td>7216.000000</td>\n",
       "      <td>7216.000000</td>\n",
       "    </tr>\n",
       "  </tbody>\n",
       "</table>\n",
       "</div>"
      ],
      "text/plain": [
       "            trip_id  trip_duration_seconds  from_station_id  to_station_id\n",
       "count  1.492369e+06           1.492369e+06    465476.000000  465476.000000\n",
       "mean   1.553653e+06           1.017616e+03      7077.085429    7076.123059\n",
       "std    4.758046e+05           9.772787e+03        60.256824      59.839325\n",
       "min    7.123820e+05           0.000000e+00      7000.000000    7000.000000\n",
       "25%    1.147384e+06           4.150000e+02      7028.000000    7028.000000\n",
       "50%    1.558955e+06           6.540000e+02      7059.000000    7059.000000\n",
       "75%    1.961202e+06           1.020000e+03      7121.000000    7118.000000\n",
       "max    2.383646e+06           6.382030e+06      7216.000000    7216.000000"
      ]
     },
     "execution_count": 7,
     "metadata": {},
     "output_type": "execute_result"
    }
   ],
   "source": [
    "df.describe() # Informasi tentang data"
   ]
  },
  {
   "cell_type": "code",
   "execution_count": 8,
   "metadata": {},
   "outputs": [
    {
     "data": {
      "text/plain": [
       "1492369"
      ]
     },
     "execution_count": 8,
     "metadata": {},
     "output_type": "execute_result"
    }
   ],
   "source": [
    "total_trip =len(df[\"trip_id\"].unique())                    # Mengetahui jumlah trip_id dengan len dan filter dengan unique \n",
    "total_trip"
   ]
  },
  {
   "cell_type": "code",
   "execution_count": 9,
   "metadata": {},
   "outputs": [
    {
     "data": {
      "text/plain": [
       "2"
      ]
     },
     "execution_count": 9,
     "metadata": {},
     "output_type": "execute_result"
    }
   ],
   "source": [
    "len(df[\"user_type\"].unique())                               # Mengetahui jumlah user_type "
   ]
  },
  {
   "cell_type": "code",
   "execution_count": 10,
   "metadata": {},
   "outputs": [
    {
     "data": {
      "text/plain": [
       "array(['Member', 'Casual'], dtype=object)"
      ]
     },
     "execution_count": 10,
     "metadata": {},
     "output_type": "execute_result"
    }
   ],
   "source": [
    "varian_user =(df.iloc[:,8]).unique()                        # Mengetahui jenis user_type \n",
    "varian_user"
   ]
  },
  {
   "cell_type": "code",
   "execution_count": 11,
   "metadata": {},
   "outputs": [
    {
     "data": {
      "text/plain": [
       "294"
      ]
     },
     "execution_count": 11,
     "metadata": {},
     "output_type": "execute_result"
    }
   ],
   "source": [
    "total_to_station =len(df[\"to_station_name\"].unique())          # Mengetahui jumlah to_station-name  \n",
    "total_to_station "
   ]
  },
  {
   "cell_type": "code",
   "execution_count": 12,
   "metadata": {},
   "outputs": [
    {
     "data": {
      "text/plain": [
       "293"
      ]
     },
     "execution_count": 12,
     "metadata": {},
     "output_type": "execute_result"
    }
   ],
   "source": [
    "total_from_station =len(df[\"from_station_name\"].unique())       # Mengetahui jumlah from_station_name\n",
    "total_from_station"
   ]
  },
  {
   "cell_type": "code",
   "execution_count": 13,
   "metadata": {},
   "outputs": [],
   "source": [
    "df = df.dropna(subset=['from_station_name','to_station_name'])        # Cleaning data"
   ]
  },
  {
   "cell_type": "code",
   "execution_count": 14,
   "metadata": {},
   "outputs": [],
   "source": [
    "route = df.copy()\n",
    "route = route[['from_station_name','to_station_name']]"
   ]
  },
  {
   "cell_type": "markdown",
   "metadata": {},
   "source": [
    "Pisahkan menjadi 2 kategori yaitu two-ways(kembali ke tempat asal) dan  one-way(tidak kembali ke tempat asal/stasiun yang berbeda)"
   ]
  },
  {
   "cell_type": "code",
   "execution_count": 15,
   "metadata": {},
   "outputs": [],
   "source": [
    "twoway = route.copy()\n",
    "twoway = twoway[twoway.from_station_name == twoway.to_station_name]\n",
    "oneway = route.copy()\n",
    "oneway = oneway[oneway.from_station_name != oneway.to_station_name]"
   ]
  },
  {
   "cell_type": "code",
   "execution_count": 16,
   "metadata": {},
   "outputs": [
    {
     "name": "stdout",
     "output_type": "stream",
     "text": [
      "stasiun peringkat atas hingga akhir twoway\n"
     ]
    },
    {
     "data": {
      "text/html": [
       "<div>\n",
       "<style scoped>\n",
       "    .dataframe tbody tr th:only-of-type {\n",
       "        vertical-align: middle;\n",
       "    }\n",
       "\n",
       "    .dataframe tbody tr th {\n",
       "        vertical-align: top;\n",
       "    }\n",
       "\n",
       "    .dataframe thead th {\n",
       "        text-align: right;\n",
       "    }\n",
       "</style>\n",
       "<table border=\"1\" class=\"dataframe\">\n",
       "  <thead>\n",
       "    <tr style=\"text-align: right;\">\n",
       "      <th></th>\n",
       "      <th>to_station_name</th>\n",
       "    </tr>\n",
       "    <tr>\n",
       "      <th>from_station_name</th>\n",
       "      <th></th>\n",
       "    </tr>\n",
       "  </thead>\n",
       "  <tbody>\n",
       "    <tr>\n",
       "      <th>Ontario Place Blvd / Remembrance Dr</th>\n",
       "      <td>3802</td>\n",
       "    </tr>\n",
       "    <tr>\n",
       "      <th>Bay St / Queens Quay W (Ferry Terminal)</th>\n",
       "      <td>3468</td>\n",
       "    </tr>\n",
       "    <tr>\n",
       "      <th>York St / Queens Quay W</th>\n",
       "      <td>2333</td>\n",
       "    </tr>\n",
       "    <tr>\n",
       "      <th>HTO Park (Queens Quay W)</th>\n",
       "      <td>1366</td>\n",
       "    </tr>\n",
       "    <tr>\n",
       "      <th>Queens Quay / Yonge St</th>\n",
       "      <td>1239</td>\n",
       "    </tr>\n",
       "    <tr>\n",
       "      <th>...</th>\n",
       "      <td>...</td>\n",
       "    </tr>\n",
       "    <tr>\n",
       "      <th>Landsdowne Subway Green P</th>\n",
       "      <td>11</td>\n",
       "    </tr>\n",
       "    <tr>\n",
       "      <th>Dufferin Gate - SMART</th>\n",
       "      <td>10</td>\n",
       "    </tr>\n",
       "    <tr>\n",
       "      <th>Dundas St W / Roncesvalles Green P - SMART</th>\n",
       "      <td>7</td>\n",
       "    </tr>\n",
       "    <tr>\n",
       "      <th>Margueretta St / College St W</th>\n",
       "      <td>6</td>\n",
       "    </tr>\n",
       "    <tr>\n",
       "      <th>Base Station</th>\n",
       "      <td>1</td>\n",
       "    </tr>\n",
       "  </tbody>\n",
       "</table>\n",
       "<p>293 rows × 1 columns</p>\n",
       "</div>"
      ],
      "text/plain": [
       "                                            to_station_name\n",
       "from_station_name                                          \n",
       "Ontario Place Blvd / Remembrance Dr                    3802\n",
       "Bay St / Queens Quay W (Ferry Terminal)                3468\n",
       "York St / Queens Quay W                                2333\n",
       "HTO Park (Queens Quay W)                               1366\n",
       "Queens Quay / Yonge St                                 1239\n",
       "...                                                     ...\n",
       "Landsdowne Subway Green P                                11\n",
       "Dufferin Gate - SMART                                    10\n",
       "Dundas St W / Roncesvalles Green P - SMART                7\n",
       "Margueretta St / College St W                             6\n",
       "Base Station                                              1\n",
       "\n",
       "[293 rows x 1 columns]"
      ]
     },
     "execution_count": 16,
     "metadata": {},
     "output_type": "execute_result"
    }
   ],
   "source": [
    "twoway_map = twoway.groupby('from_station_name').count().sort_values(by='to_station_name', ascending=False)\n",
    "print('stasiun peringkat atas hingga akhir twoway') \n",
    "twoway_map[:294]"
   ]
  },
  {
   "cell_type": "code",
   "execution_count": 17,
   "metadata": {},
   "outputs": [
    {
     "name": "stdout",
     "output_type": "stream",
     "text": [
      "10 stasiun peringkat atas hingga akhir twoway\n"
     ]
    },
    {
     "data": {
      "text/html": [
       "<div>\n",
       "<style scoped>\n",
       "    .dataframe tbody tr th:only-of-type {\n",
       "        vertical-align: middle;\n",
       "    }\n",
       "\n",
       "    .dataframe tbody tr th {\n",
       "        vertical-align: top;\n",
       "    }\n",
       "\n",
       "    .dataframe thead th {\n",
       "        text-align: right;\n",
       "    }\n",
       "</style>\n",
       "<table border=\"1\" class=\"dataframe\">\n",
       "  <thead>\n",
       "    <tr style=\"text-align: right;\">\n",
       "      <th></th>\n",
       "      <th>to_station_name</th>\n",
       "    </tr>\n",
       "    <tr>\n",
       "      <th>from_station_name</th>\n",
       "      <th></th>\n",
       "    </tr>\n",
       "  </thead>\n",
       "  <tbody>\n",
       "    <tr>\n",
       "      <th>Ontario Place Blvd / Remembrance Dr</th>\n",
       "      <td>3802</td>\n",
       "    </tr>\n",
       "    <tr>\n",
       "      <th>Bay St / Queens Quay W (Ferry Terminal)</th>\n",
       "      <td>3468</td>\n",
       "    </tr>\n",
       "    <tr>\n",
       "      <th>York St / Queens Quay W</th>\n",
       "      <td>2333</td>\n",
       "    </tr>\n",
       "    <tr>\n",
       "      <th>HTO Park (Queens Quay W)</th>\n",
       "      <td>1366</td>\n",
       "    </tr>\n",
       "    <tr>\n",
       "      <th>Queens Quay / Yonge St</th>\n",
       "      <td>1239</td>\n",
       "    </tr>\n",
       "    <tr>\n",
       "      <th>Queens Quay W / Lower Simcoe St</th>\n",
       "      <td>1184</td>\n",
       "    </tr>\n",
       "    <tr>\n",
       "      <th>Dockside Dr / Queens Quay E (Sugar Beach)</th>\n",
       "      <td>1174</td>\n",
       "    </tr>\n",
       "    <tr>\n",
       "      <th>Bremner Blvd / Rees St</th>\n",
       "      <td>1156</td>\n",
       "    </tr>\n",
       "    <tr>\n",
       "      <th>Queens Quay W / Dan Leckie Way</th>\n",
       "      <td>1149</td>\n",
       "    </tr>\n",
       "    <tr>\n",
       "      <th>Humber Bay Shores Park West</th>\n",
       "      <td>953</td>\n",
       "    </tr>\n",
       "  </tbody>\n",
       "</table>\n",
       "</div>"
      ],
      "text/plain": [
       "                                           to_station_name\n",
       "from_station_name                                         \n",
       "Ontario Place Blvd / Remembrance Dr                   3802\n",
       "Bay St / Queens Quay W (Ferry Terminal)               3468\n",
       "York St / Queens Quay W                               2333\n",
       "HTO Park (Queens Quay W)                              1366\n",
       "Queens Quay / Yonge St                                1239\n",
       "Queens Quay W / Lower Simcoe St                       1184\n",
       "Dockside Dr / Queens Quay E (Sugar Beach)             1174\n",
       "Bremner Blvd / Rees St                                1156\n",
       "Queens Quay W / Dan Leckie Way                        1149\n",
       "Humber Bay Shores Park West                            953"
      ]
     },
     "execution_count": 17,
     "metadata": {},
     "output_type": "execute_result"
    }
   ],
   "source": [
    "print('10 stasiun peringkat atas hingga akhir twoway') \n",
    "twoway_map[:10]"
   ]
  },
  {
   "cell_type": "code",
   "execution_count": 18,
   "metadata": {},
   "outputs": [
    {
     "name": "stdout",
     "output_type": "stream",
     "text": [
      "stasiun peringkat atas hingga akhir oneway\n"
     ]
    },
    {
     "data": {
      "text/html": [
       "<div>\n",
       "<style scoped>\n",
       "    .dataframe tbody tr th:only-of-type {\n",
       "        vertical-align: middle;\n",
       "    }\n",
       "\n",
       "    .dataframe tbody tr th {\n",
       "        vertical-align: top;\n",
       "    }\n",
       "\n",
       "    .dataframe thead th {\n",
       "        text-align: right;\n",
       "    }\n",
       "</style>\n",
       "<table border=\"1\" class=\"dataframe\">\n",
       "  <thead>\n",
       "    <tr style=\"text-align: right;\">\n",
       "      <th></th>\n",
       "      <th>to_station_name</th>\n",
       "    </tr>\n",
       "    <tr>\n",
       "      <th>from_station_name</th>\n",
       "      <th></th>\n",
       "    </tr>\n",
       "  </thead>\n",
       "  <tbody>\n",
       "    <tr>\n",
       "      <th>Union Station</th>\n",
       "      <td>21395</td>\n",
       "    </tr>\n",
       "    <tr>\n",
       "      <th>Simcoe St / Wellington St W</th>\n",
       "      <td>20592</td>\n",
       "    </tr>\n",
       "    <tr>\n",
       "      <th>Bay St / Wellesley St W</th>\n",
       "      <td>17646</td>\n",
       "    </tr>\n",
       "    <tr>\n",
       "      <th>King St W / Spadina Ave</th>\n",
       "      <td>17290</td>\n",
       "    </tr>\n",
       "    <tr>\n",
       "      <th>Bay St / College St (East Side)</th>\n",
       "      <td>16987</td>\n",
       "    </tr>\n",
       "    <tr>\n",
       "      <th>...</th>\n",
       "      <td>...</td>\n",
       "    </tr>\n",
       "    <tr>\n",
       "      <th>Summerhill Ave / MacLennan Ave - SMART</th>\n",
       "      <td>185</td>\n",
       "    </tr>\n",
       "    <tr>\n",
       "      <th>Dundas St W / Roncesvalles Green P - SMART</th>\n",
       "      <td>180</td>\n",
       "    </tr>\n",
       "    <tr>\n",
       "      <th>Victoria Park Subway Station - SMART</th>\n",
       "      <td>126</td>\n",
       "    </tr>\n",
       "    <tr>\n",
       "      <th>Fringe Next Stage - 7219</th>\n",
       "      <td>25</td>\n",
       "    </tr>\n",
       "    <tr>\n",
       "      <th>Base Station</th>\n",
       "      <td>1</td>\n",
       "    </tr>\n",
       "  </tbody>\n",
       "</table>\n",
       "<p>293 rows × 1 columns</p>\n",
       "</div>"
      ],
      "text/plain": [
       "                                            to_station_name\n",
       "from_station_name                                          \n",
       "Union Station                                         21395\n",
       "Simcoe St / Wellington St W                           20592\n",
       "Bay St / Wellesley St W                               17646\n",
       "King St W / Spadina Ave                               17290\n",
       "Bay St / College St (East Side)                       16987\n",
       "...                                                     ...\n",
       "Summerhill Ave / MacLennan Ave - SMART                  185\n",
       "Dundas St W / Roncesvalles Green P - SMART              180\n",
       "Victoria Park Subway Station - SMART                    126\n",
       "Fringe Next Stage - 7219                                 25\n",
       "Base Station                                              1\n",
       "\n",
       "[293 rows x 1 columns]"
      ]
     },
     "execution_count": 18,
     "metadata": {},
     "output_type": "execute_result"
    }
   ],
   "source": [
    "oneway_map = oneway.groupby('from_station_name').count().sort_values(by='to_station_name', ascending=False)\n",
    "print('stasiun peringkat atas hingga akhir oneway')\n",
    "oneway_map[:294]"
   ]
  },
  {
   "cell_type": "code",
   "execution_count": 19,
   "metadata": {},
   "outputs": [
    {
     "name": "stdout",
     "output_type": "stream",
     "text": [
      "10 stasiun peringkat atas hingga akhir oneway\n"
     ]
    },
    {
     "data": {
      "text/html": [
       "<div>\n",
       "<style scoped>\n",
       "    .dataframe tbody tr th:only-of-type {\n",
       "        vertical-align: middle;\n",
       "    }\n",
       "\n",
       "    .dataframe tbody tr th {\n",
       "        vertical-align: top;\n",
       "    }\n",
       "\n",
       "    .dataframe thead th {\n",
       "        text-align: right;\n",
       "    }\n",
       "</style>\n",
       "<table border=\"1\" class=\"dataframe\">\n",
       "  <thead>\n",
       "    <tr style=\"text-align: right;\">\n",
       "      <th></th>\n",
       "      <th>to_station_name</th>\n",
       "    </tr>\n",
       "    <tr>\n",
       "      <th>from_station_name</th>\n",
       "      <th></th>\n",
       "    </tr>\n",
       "  </thead>\n",
       "  <tbody>\n",
       "    <tr>\n",
       "      <th>Union Station</th>\n",
       "      <td>21395</td>\n",
       "    </tr>\n",
       "    <tr>\n",
       "      <th>Simcoe St / Wellington St W</th>\n",
       "      <td>20592</td>\n",
       "    </tr>\n",
       "    <tr>\n",
       "      <th>Bay St / Wellesley St W</th>\n",
       "      <td>17646</td>\n",
       "    </tr>\n",
       "    <tr>\n",
       "      <th>King St W / Spadina Ave</th>\n",
       "      <td>17290</td>\n",
       "    </tr>\n",
       "    <tr>\n",
       "      <th>Bay St / College St (East Side)</th>\n",
       "      <td>16987</td>\n",
       "    </tr>\n",
       "    <tr>\n",
       "      <th>Queen St W / Portland St</th>\n",
       "      <td>16883</td>\n",
       "    </tr>\n",
       "    <tr>\n",
       "      <th>York St / Queens Quay W</th>\n",
       "      <td>16810</td>\n",
       "    </tr>\n",
       "    <tr>\n",
       "      <th>Front St W / Blue Jays Way</th>\n",
       "      <td>15504</td>\n",
       "    </tr>\n",
       "    <tr>\n",
       "      <th>Simcoe St / Queen St W</th>\n",
       "      <td>14749</td>\n",
       "    </tr>\n",
       "    <tr>\n",
       "      <th>College Park South</th>\n",
       "      <td>14592</td>\n",
       "    </tr>\n",
       "  </tbody>\n",
       "</table>\n",
       "</div>"
      ],
      "text/plain": [
       "                                 to_station_name\n",
       "from_station_name                               \n",
       "Union Station                              21395\n",
       "Simcoe St / Wellington St W                20592\n",
       "Bay St / Wellesley St W                    17646\n",
       "King St W / Spadina Ave                    17290\n",
       "Bay St / College St (East Side)            16987\n",
       "Queen St W / Portland St                   16883\n",
       "York St / Queens Quay W                    16810\n",
       "Front St W / Blue Jays Way                 15504\n",
       "Simcoe St / Queen St W                     14749\n",
       "College Park South                         14592"
      ]
     },
     "execution_count": 19,
     "metadata": {},
     "output_type": "execute_result"
    }
   ],
   "source": [
    "print('10 stasiun peringkat atas hingga akhir oneway')\n",
    "oneway_map[:10]"
   ]
  },
  {
   "cell_type": "code",
   "execution_count": 20,
   "metadata": {},
   "outputs": [
    {
     "data": {
      "text/plain": [
       "to_station_name    71722\n",
       "dtype: int64"
      ]
     },
     "execution_count": 20,
     "metadata": {},
     "output_type": "execute_result"
    }
   ],
   "source": [
    "# Jumlah total_twoway\n",
    "total_twoway =twoway_map.sum() \n",
    "total_twoway"
   ]
  },
  {
   "cell_type": "code",
   "execution_count": 21,
   "metadata": {},
   "outputs": [
    {
     "data": {
      "text/plain": [
       "to_station_name    1420646\n",
       "dtype: int64"
      ]
     },
     "execution_count": 21,
     "metadata": {},
     "output_type": "execute_result"
    }
   ],
   "source": [
    "# Jumlah total_oneway\n",
    "total_oneway = oneway_map.sum()\n",
    "total_oneway"
   ]
  },
  {
   "cell_type": "markdown",
   "metadata": {},
   "source": [
    "<h3> Data Visualization </h3>\n",
    "Top 10 stations ranked two-way."
   ]
  },
  {
   "cell_type": "code",
   "execution_count": 56,
   "metadata": {},
   "outputs": [],
   "source": [
    "# Data\n",
    "init_stasiun = ['Ontario Place Blvd / Remembrance Dr', 'Bay St / Queens Quay W (Ferry Terminal)', 'York St / Queens Quay W', \n",
    "                'HTO Park (Queens Quay W)', 'Queens Quay / Yonge St', 'Queens Quay W / Lower Simcoe St', \n",
    "                'Dockside Dr / Queens Quay E (Sugar Beach)', 'Bremner Blvd / Rees St', 'Queens Quay W / Dan Leckie Way', \n",
    "                'Humber Bay Shores Park West']\n",
    "data = [3802, 3468, 2333, 1366, 1239, 1184, 1174, 1156, 1149, 953]"
   ]
  },
  {
   "cell_type": "code",
   "execution_count": 57,
   "metadata": {},
   "outputs": [],
   "source": [
    "explode = (0.3, 0.0, 0.0, 0.0, 0.0, 0.2, 0.0, 0.0, 0.0, 0.1)  # Variasi di pie chart\n",
    "colors = (\"orange\", \"brown\", \"cyan\", \"grey\", \"lime\", \"beige\", \"green\", \"yellow\", \"pink\", \"khaki\")\n",
    "wp = { 'linewidth' : 1, 'edgecolor' : \"green\" }"
   ]
  },
  {
   "cell_type": "code",
   "execution_count": 58,
   "metadata": {},
   "outputs": [],
   "source": [
    "def func(pct, allvalues): \n",
    "    absolute = int(pct / 100.*np.sum(allvalues))  # Percentase\n",
    "    return \"{:.1f}%\\n({:d})\".format(pct, absolute)"
   ]
  },
  {
   "cell_type": "code",
   "execution_count": 62,
   "metadata": {},
   "outputs": [
    {
     "data": {
      "image/png": "[encoded data removed]",
      "text/plain": [
       "<Figure size 720x504 with 1 Axes>"
      ]
     },
     "metadata": {},
     "output_type": "display_data"
    }
   ],
   "source": [
    "fig, ax = plt.subplots(figsize =(10, 7))   \n",
    "wedges, texts, autotexts = ax.pie(data,  \n",
    "                                  autopct = lambda pct: func(pct, data), \n",
    "                                  explode = explode,  \n",
    "                                  labels = init_stasiun,\n",
    "                                  shadow = True, \n",
    "                                  colors = colors, \n",
    "                                  startangle = 90, \n",
    "                                  wedgeprops = wp, \n",
    "                                  textprops = dict(color =\"black\")) \n",
    "ax.legend(wedges, init_stasiun, \n",
    "          title =\"Initial Station\", \n",
    "          loc =\"best\", \n",
    "          bbox_to_anchor =(1, 0, 0.5, 1)) \n",
    "  \n",
    "plt.setp(autotexts, size = 12, weight =\"bold\") \n",
    "ax.set_title(\"10 stasion high numbers twoway pie chart\") \n",
    "  \n",
    "# show plot \n",
    "plt.show() "
   ]
  },
  {
   "cell_type": "markdown",
   "metadata": {},
   "source": [
    "<h3>A).Find out what percentage of bikes are returned to its initial location?(Answer)</h3>\n",
    "Percentage of the bicycle visualization returned to its original location."
   ]
  },
  {
   "cell_type": "code",
   "execution_count": 26,
   "metadata": {},
   "outputs": [],
   "source": [
    "# Data\n",
    "total_ways = ['Initial station', 'Other Station'] \n",
    "data = [71722, 1420646] "
   ]
  },
  {
   "cell_type": "code",
   "execution_count": 27,
   "metadata": {},
   "outputs": [],
   "source": [
    "def func(pct, allvalues):                          # Percentase\n",
    "    absolute = int(pct / 100.*np.sum(allvalues)) \n",
    "    return \"{:.1f}%\\n({:d})\".format(pct, absolute)"
   ]
  },
  {
   "cell_type": "code",
   "execution_count": 46,
   "metadata": {},
   "outputs": [],
   "source": [
    "explode = (0.1, 0.0)                              # Variasi di pie chart\n",
    "colors = (\"orange\", \"khaki\")\n",
    "wp = { 'linewidth' : 1, 'edgecolor' : \"blue\" }"
   ]
  },
  {
   "cell_type": "code",
   "execution_count": 49,
   "metadata": {},
   "outputs": [
    {
     "data": {
      "image/png": "[encoded data removed]",
      "text/plain": [
       "<Figure size 720x504 with 1 Axes>"
      ]
     },
     "metadata": {},
     "output_type": "display_data"
    }
   ],
   "source": [
    "fig, ax = plt.subplots(figsize =(10, 7))          # Ploting pie chart\n",
    "wedges, texts, autotexts = ax.pie(data,  \n",
    "                                  autopct = lambda pct: func(pct, data), \n",
    "                                  explode = explode,  \n",
    "                                  labels = total_ways,\n",
    "                                  shadow = True, \n",
    "                                  colors = colors, \n",
    "                                  startangle = 90, \n",
    "                                  wedgeprops = wp, \n",
    "                                  textprops = dict(color =\"black\")) \n",
    "ax.legend(wedges, total_ways, \n",
    "          title =\"Total Ways\", \n",
    "          loc =\"center\", \n",
    "          bbox_to_anchor =(1, 0, 0.5, 1)) \n",
    "  \n",
    "plt.setp(autotexts, size = 12, weight =\"bold\") \n",
    "ax.set_title(\"Total Sepeda yang Kembali di Stasiun Awal dan Stasiun Berbeda\") \n",
    "  \n",
    "# show plot \n",
    "plt.show() "
   ]
  },
  {
   "cell_type": "markdown",
   "metadata": {},
   "source": [
    "<h5>Kesimpulannya</h5>\n",
    "Sepeda yang kembali ke asal stasiun awal hanya 4,8 % dari total keseluruhan sepeda <br>\n",
    "<ul>Hal ini dibuktikan dengan data seperti berikut    \n",
    "    <li>Jumlah Sepeda yang Kembali ke Awal Stasiun    :    71.721 </li>\n",
    "    <li>Jumlah Sepeda yang Kembali ke Stasiun Berbeda : 1.420.646 </li>\n",
    "    <li>Jumlah Keseluruhan Sepeda di Semua Stasiun    : 1.492.369 </li>\n",
    "    <li>Jumlah Total Trip Sepeda : 1.492.368 </li>\n",
    "    <li>Jumlah Total Stasiun yang menjadi Tujuan(sebelum cleaning data) : 294 </li>\n",
    "    <li>Jumlah Total Stasiun yang menjadi Tujuan(setelah cleaning data) : 293 </li>\n",
    "    <li>Jumlah Total Stasiun yang menjadi Awal(sebelum cleaning data) : 293 </li>\n",
    "    <li>Jumlah Total Stasiun yang menjadi Awal(setelah cleaning data) : 293 </li>\n",
    "</ul>   \n",
    "Terdapat 3 trip_id yang dimana data tersebut tidak terlacak akan tetapi tidak mempengaruhi persentase sepeda yang kembali ke awal stasiun sebesar 4,8% <br>\n",
    "Catatan: <br>\n",
    "3 trip_id bisa terlacak dengan memplotkan stasiun tujuan akhir dengan mapping pada peta dan korelasikan rata2 duration second untuk mendapatkan jaraknya,serta menentukan posisi stasiun yang terdekat dari data trip tersebut.\n"
   ]
  },
  {
   "cell_type": "markdown",
   "metadata": {},
   "source": [
    "<h3>B).How many bikeshare trips before the end of the day?(Answer)</h3>\n",
    "Visualization "
   ]
  },
  {
   "cell_type": "code",
   "execution_count": 30,
   "metadata": {},
   "outputs": [],
   "source": [
    "df2017 =df.copy()\n",
    "df2017['trip_start_time'] = pd.to_datetime(df2017['trip_start_time']) # Convert ke format to_datetime\n",
    "df2017['trip_stop_time'] = pd.to_datetime(df2017['trip_stop_time'])"
   ]
  },
  {
   "cell_type": "code",
   "execution_count": 31,
   "metadata": {},
   "outputs": [],
   "source": [
    "# Convert trip_start_time\n",
    "df2017['hour_start'] = df2017['trip_start_time'].apply(lambda time: time.hour)\n",
    "df2017['month_start'] = df2017['trip_start_time'].apply(lambda time: time.month)\n",
    "df2017['weekday_start'] = df2017['trip_start_time'].apply(lambda time: time.dayofweek)"
   ]
  },
  {
   "cell_type": "code",
   "execution_count": 32,
   "metadata": {},
   "outputs": [],
   "source": [
    "# Convert trip_stop_time\n",
    "df2017['hour_stop'] = df2017['trip_stop_time'].apply(lambda time: time.hour)\n",
    "df2017['month_stop'] = df2017['trip_stop_time'].apply(lambda time: time.month)\n",
    "df2017['weekday_stop'] = df2017['trip_stop_time'].apply(lambda time: time.dayofweek)"
   ]
  },
  {
   "cell_type": "code",
   "execution_count": 33,
   "metadata": {},
   "outputs": [],
   "source": [
    "# Month value\n",
    "mon = {1:'Jan',2:'Feb',3:'Mar',4:'Apr',5:'May',6:'Jun',7:'Jul',8:'Aug',9:'Sep',10:'Oct',11:'Nov',12:'Dec'}\n",
    "df2017['month_start'] = df2017['month_start'].map(mon)\n",
    "df2017['month_stop'] = df2017['month_stop'].map(mon)"
   ]
  },
  {
   "cell_type": "code",
   "execution_count": 34,
   "metadata": {},
   "outputs": [],
   "source": [
    "# Day value\n",
    "day = {0:'Mon',1:'Tue',2:'Wed',3:'Thu',4:'Fri',5:'Sat',6:'Sun'}\n",
    "df2017['weekday_start'] = df2017['weekday_start'].map(day)\n",
    "df2017['weekday_stop'] = df2017['weekday_stop'].map(day)"
   ]
  },
  {
   "cell_type": "markdown",
   "metadata": {},
   "source": [
    "<h3>Data Visualization</h3>\n",
    "Bikeshare Trip 2017 Monthly"
   ]
  },
  {
   "cell_type": "code",
   "execution_count": 43,
   "metadata": {},
   "outputs": [
    {
     "data": {
      "text/plain": [
       "<matplotlib.legend.Legend at 0x1ffd2897ca0>"
      ]
     },
     "execution_count": 43,
     "metadata": {},
     "output_type": "execute_result"
    },
    {
     "data": {
      "image/png": "[encoded data removed]",
      "text/plain": [
       "<Figure size 720x360 with 1 Axes>"
      ]
     },
     "metadata": {},
     "output_type": "display_data"
    }
   ],
   "source": [
    "plt.figure(figsize=(10,5))\n",
    "sns.set_style('darkgrid')\n",
    "bikeshare_monthly = sns.countplot(data=df2017, x='month_start', hue='user_type', palette='tab10')\n",
    "plt.title('Bikeshare Trip 2017 Monthly')\n",
    "plt.legend(bbox_to_anchor=(1.02, 1), loc=2, borderaxespad=0.)"
   ]
  },
  {
   "cell_type": "markdown",
   "metadata": {},
   "source": [
    "<h3>Data Visualization</h3>\n",
    "Bikeshare Trip 2017 Weekday"
   ]
  },
  {
   "cell_type": "code",
   "execution_count": 42,
   "metadata": {},
   "outputs": [
    {
     "data": {
      "text/plain": [
       "<matplotlib.legend.Legend at 0x1ffcdf09f10>"
      ]
     },
     "execution_count": 42,
     "metadata": {},
     "output_type": "execute_result"
    },
    {
     "data": {
      "image/png": "[encoded data removed]",
      "text/plain": [
       "<Figure size 720x360 with 1 Axes>"
      ]
     },
     "metadata": {},
     "output_type": "display_data"
    }
   ],
   "source": [
    "plt.figure(figsize=(10,5))\n",
    "sns.set_style('darkgrid')\n",
    "bikeshare_weekday = sns.countplot(data=df2017, x='weekday_start', hue='user_type', palette='tab10')\n",
    "plt.title('Bikeshare Trip 2017 Weekday')\n",
    "plt.legend(bbox_to_anchor=(1.02, 1), loc=2, borderaxespad=0.)"
   ]
  },
  {
   "cell_type": "markdown",
   "metadata": {},
   "source": [
    "<h5>Kesimpulannya</h5>\n",
    "Berdasarkan visualisasi diatas,didapat informasi bikeshare trip baik member maupun casual sebagai berikut <br>\n",
    "<ul>Bikeshare Trip 2017 Montly\n",
    "    <li>Terdapat lonjakan peningkatan tertinggi bikeshare member pada bulan Juli-September dan puncaknya pada bulan September </li>\n",
    "    <li>Tercatat pada bulan Agustus,September dan Oktober mencapai diatas 150.000 bikeshare member</li>\n",
    "    <li>Terjadi penurunan pada bulan Oktober-Desember dan pada bulan Desember terjadi penurunan yang drastis yaitu 50.000 member</li>\n",
    "    <li>Peningkatan tertingi pada casual terjadi pada bulan Juli yang berjumlah >75.000 </li>\n",
    "    <li>Terjadi penurunan pada casual pada bulan Agustus-Desember</li>\n",
    "</ul>   \n",
    "<ul>Bikeshare Trip 2017 Weekday\n",
    "    <li>Hari yang diminati oleh bikeshare member adalah hari rabu yang mencapai 200.000 </li>\n",
    "    <li>Hari yang kurang diminati oleh bikeshare member adalah hari sabtu dan minggu</li>\n",
    "    <li>Hari yang diminati oleh bikeshare casual adalah hari sabtu dan minggu</li>\n",
    "    <li>Hari yang kurang diminati oleh bikeshare casual adalah hari selasa dan kamis </li>\n",
    "</ul>   \n",
    "Pada bikeshare member puncak tertinggi terjadi pada bulan September dengan hari yang diminati yaitu hari rabu mencapai 200.000, sedangkan untuk bikeshare casual puncak tertingi tejadi pada bulan Juli dengan hari yang diminati yaitu hari sabtu dan minggu mecapai kisaran 75.000 <br>\n"
   ]
  },
  {
   "cell_type": "code",
   "execution_count": null,
   "metadata": {},
   "outputs": [],
   "source": []
  }
 ],
 "metadata": {
  "kernelspec": {
   "display_name": "Python 3",
   "language": "python",
   "name": "python3"
  },
  "language_info": {
   "codemirror_mode": {
    "name": "ipython",
    "version": 3
   },
   "file_extension": ".py",
   "mimetype": "text/x-python",
   "name": "python",
   "nbconvert_exporter": "python",
   "pygments_lexer": "ipython3",
   "version": "3.8.3"
  }
 },
 "nbformat": 4,
 "nbformat_minor": 4
}
